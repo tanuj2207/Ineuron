{
 "cells": [
  {
   "cell_type": "markdown",
   "id": "34b3d82e",
   "metadata": {},
   "source": [
    "#### Write a Python program to find words which are greater than given length k"
   ]
  },
  {
   "cell_type": "code",
   "execution_count": 5,
   "id": "9722ce70",
   "metadata": {},
   "outputs": [
    {
     "name": "stdout",
     "output_type": "stream",
     "text": [
      "Enter the Sentence: First question of Assignment 11th of iNeuron\n",
      "Enter the length of k: 5\n",
      "['question', 'Assignment', 'iNeuron']\n"
     ]
    }
   ],
   "source": [
    "string = input(\"Enter the Sentence: \")\n",
    "l = []\n",
    "k = int(input(\"Enter the length of k: \"))\n",
    "text = string.split(\" \")\n",
    "for i in text:\n",
    "    if len(i)>k:\n",
    "        l.append(i)\n",
    "print(l)\n",
    "    "
   ]
  },
  {
   "cell_type": "markdown",
   "id": "fc539936",
   "metadata": {},
   "source": [
    "#### Python program for removing i-th character from a string"
   ]
  },
  {
   "cell_type": "code",
   "execution_count": 24,
   "id": "0ce60431",
   "metadata": {},
   "outputs": [
    {
     "name": "stdout",
     "output_type": "stream",
     "text": [
      "Enter the Sentence: tanujs\n",
      "Enter the i-th character to remove: 5\n",
      "tanuj\n"
     ]
    }
   ],
   "source": [
    "string = input(\"Enter the Sentence: \")\n",
    "i_th = int(input(\"Enter the i-th character to remove: \"))\n",
    "string1 = \"\"\n",
    "for i in range(len(string)):\n",
    "    if i != i_th:\n",
    "        string1 += string[i]\n",
    "print(string1)\n",
    "    \n",
    "        \n",
    "\n",
    "        "
   ]
  },
  {
   "cell_type": "markdown",
   "id": "75628b1a",
   "metadata": {},
   "source": [
    "#### Python program to split and join a string"
   ]
  },
  {
   "cell_type": "code",
   "execution_count": 36,
   "id": "ab70816e",
   "metadata": {},
   "outputs": [
    {
     "name": "stdout",
     "output_type": "stream",
     "text": [
      "Enter the Sentence: My Name is Tanuj Sharma\n",
      "['My', 'Name', 'is', 'Tanuj', 'Sharma']\n",
      "MyNameisTanujSharma\n"
     ]
    }
   ],
   "source": [
    "string = input(\"Enter the Sentence: \")\n",
    "split = string.split(\" \")\n",
    "print(split)\n",
    "string1 = split\n",
    "join = \"\".join(string1)\n",
    "print(join)\n",
    "\n"
   ]
  },
  {
   "cell_type": "markdown",
   "id": "f33ce2f4",
   "metadata": {},
   "source": [
    "####  Python to check if a given string is binary string or not"
   ]
  },
  {
   "cell_type": "code",
   "execution_count": 4,
   "id": "0856693c",
   "metadata": {},
   "outputs": [
    {
     "name": "stdout",
     "output_type": "stream",
     "text": [
      "Enter the string:   0101010111101111111110\n",
      "Given string is binary string. \n"
     ]
    }
   ],
   "source": [
    "string = input(\"Enter the string:   \")\n",
    "binary = '01'\n",
    "for char in string:\n",
    "    pass\n",
    "if char in binary:\n",
    "    print(\"Given string is binary string. \")\n",
    "else:\n",
    "    print(\"Given string is not binary string. \")"
   ]
  },
  {
   "cell_type": "markdown",
   "id": "9ff4bf1e",
   "metadata": {},
   "source": [
    "####  Program to find uncommon words from two Strings"
   ]
  },
  {
   "cell_type": "code",
   "execution_count": 14,
   "id": "aec825cf",
   "metadata": {},
   "outputs": [
    {
     "name": "stdout",
     "output_type": "stream",
     "text": [
      "Enter the first string:    My name is Tanuj Sharma\n",
      "Enter the second string:    My name is Anuj Sharma\n",
      "['Tanuj', 'Anuj']\n"
     ]
    }
   ],
   "source": [
    "str1 = input(\"Enter the first string:   \")\n",
    "str2 = input(\"Enter the second string:   \")\n",
    "str1 = str1.split()\n",
    "str2 = str2.split()\n",
    "uc = \"\"\n",
    "for i in str1:\n",
    "    if i not in str2:\n",
    "        uc += \" \"+i\n",
    "for j in str2:\n",
    "    if j not in str1:\n",
    "        uc += \" \"+j\n",
    "print((uc.split()))"
   ]
  },
  {
   "cell_type": "markdown",
   "id": "88f4ec03",
   "metadata": {},
   "source": [
    "#### Python to find all duplicate characters in string"
   ]
  },
  {
   "cell_type": "code",
   "execution_count": 22,
   "id": "80e3612d",
   "metadata": {},
   "outputs": [
    {
     "name": "stdout",
     "output_type": "stream",
     "text": [
      "['t', 'o', 'i']\n"
     ]
    }
   ],
   "source": [
    "string = \"tutorialspoint\"\n",
    "duplicates = []\n",
    "for char in string:\n",
    "    if string.count(char) > 1:\n",
    "        if char not in duplicates:\n",
    "            duplicates.append(char)\n",
    "print(duplicates)"
   ]
  },
  {
   "cell_type": "markdown",
   "id": "4705a053",
   "metadata": {},
   "source": [
    "#### Python Program to check if a string contains any special character"
   ]
  },
  {
   "cell_type": "code",
   "execution_count": 60,
   "id": "1dbd1805",
   "metadata": {},
   "outputs": [
    {
     "name": "stdout",
     "output_type": "stream",
     "text": [
      "Enter the string:   Tanuj@#sharma\n",
      "string contains special character\n"
     ]
    }
   ],
   "source": [
    "special_characters = \"!@#$%^&*()-+?_=,<>/'\"\n",
    "string = (input(\"Enter the string:   \"))\n",
    "if any(i in special_characters for i in string):\n",
    "    print(\"string contains special character\")\n",
    "else:\n",
    "    print(\"string not contains any special character\")"
   ]
  },
  {
   "cell_type": "code",
   "execution_count": null,
   "id": "d4a32e44",
   "metadata": {},
   "outputs": [],
   "source": []
  }
 ],
 "metadata": {
  "kernelspec": {
   "display_name": "Python 3",
   "language": "python",
   "name": "python3"
  },
  "language_info": {
   "codemirror_mode": {
    "name": "ipython",
    "version": 3
   },
   "file_extension": ".py",
   "mimetype": "text/x-python",
   "name": "python",
   "nbconvert_exporter": "python",
   "pygments_lexer": "ipython3",
   "version": "3.8.8"
  }
 },
 "nbformat": 4,
 "nbformat_minor": 5
}
