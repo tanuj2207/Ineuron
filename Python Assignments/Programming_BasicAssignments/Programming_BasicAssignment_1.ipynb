{
 "cells": [
  {
   "cell_type": "code",
   "execution_count": 1,
   "id": "6c490959",
   "metadata": {},
   "outputs": [
    {
     "name": "stdout",
     "output_type": "stream",
     "text": [
      "Hello Python\n"
     ]
    }
   ],
   "source": [
    "print(\"Hello Python\")"
   ]
  },
  {
   "cell_type": "code",
   "execution_count": 2,
   "id": "6820be09",
   "metadata": {},
   "outputs": [],
   "source": [
    "def test(a,b):\n",
    "    print(a+b)\n",
    "    print(a/b)"
   ]
  },
  {
   "cell_type": "code",
   "execution_count": 3,
   "id": "1fdc21da",
   "metadata": {},
   "outputs": [
    {
     "name": "stdout",
     "output_type": "stream",
     "text": [
      "6\n",
      "2.0\n"
     ]
    }
   ],
   "source": [
    "test(4,2)"
   ]
  },
  {
   "cell_type": "code",
   "execution_count": 7,
   "id": "6f913bf5",
   "metadata": {},
   "outputs": [],
   "source": [
    "def test_1(x,y):\n",
    "    print(\"The area of the Triangle is :\", 0.5*x*y,\"mtrsq.\")"
   ]
  },
  {
   "cell_type": "code",
   "execution_count": 8,
   "id": "41656d96",
   "metadata": {},
   "outputs": [
    {
     "name": "stdout",
     "output_type": "stream",
     "text": [
      "The area of the Triangle is : 10.0 mtrsq.\n"
     ]
    }
   ],
   "source": [
    "test_1(2,10)"
   ]
  },
  {
   "cell_type": "code",
   "execution_count": 9,
   "id": "8136e54b",
   "metadata": {},
   "outputs": [
    {
     "name": "stdout",
     "output_type": "stream",
     "text": [
      "Enter the value of x :5\n",
      "Enter the value of y :10\n",
      "x =  10\n",
      "y =  5\n"
     ]
    }
   ],
   "source": [
    "x = input(\"Enter the value of x :\")\n",
    "y = input(\"Enter the value of y :\")\n",
    "x,y = y,x\n",
    "print(\"x = \", x)\n",
    "print(\"y = \", y)"
   ]
  },
  {
   "cell_type": "code",
   "execution_count": 10,
   "id": "4d3c51ad",
   "metadata": {},
   "outputs": [],
   "source": [
    "import random"
   ]
  },
  {
   "cell_type": "code",
   "execution_count": 11,
   "id": "f63335ac",
   "metadata": {},
   "outputs": [],
   "source": [
    "def test_2(a,b):\n",
    "    print(random.randint(a,b))"
   ]
  },
  {
   "cell_type": "code",
   "execution_count": 15,
   "id": "f0f6182b",
   "metadata": {},
   "outputs": [
    {
     "name": "stdout",
     "output_type": "stream",
     "text": [
      "3\n"
     ]
    }
   ],
   "source": [
    "test_2(0,9)"
   ]
  },
  {
   "cell_type": "code",
   "execution_count": null,
   "id": "74699829",
   "metadata": {},
   "outputs": [],
   "source": []
  }
 ],
 "metadata": {
  "kernelspec": {
   "display_name": "Python 3",
   "language": "python",
   "name": "python3"
  },
  "language_info": {
   "codemirror_mode": {
    "name": "ipython",
    "version": 3
   },
   "file_extension": ".py",
   "mimetype": "text/x-python",
   "name": "python",
   "nbconvert_exporter": "python",
   "pygments_lexer": "ipython3",
   "version": "3.8.8"
  }
 },
 "nbformat": 4,
 "nbformat_minor": 5
}
