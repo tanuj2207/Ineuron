{
 "cells": [
  {
   "cell_type": "markdown",
   "id": "22860f20",
   "metadata": {},
   "source": [
    "## Tasks\n"
   ]
  },
  {
   "cell_type": "markdown",
   "id": "26b1c115",
   "metadata": {},
   "source": [
    "#### 1 . you have to write a fun which will take string and return a len of it without using a inbuilt fun len."
   ]
  },
  {
   "cell_type": "code",
   "execution_count": 1,
   "id": "8fe69cee",
   "metadata": {},
   "outputs": [],
   "source": [
    "def len_str(a):\n",
    "    '''Enter the string to find the length of that string'''\n",
    "    count = 0\n",
    "    for i in a:\n",
    "        count += 1\n",
    "    return count"
   ]
  },
  {
   "cell_type": "code",
   "execution_count": 2,
   "id": "b748552b",
   "metadata": {},
   "outputs": [
    {
     "data": {
      "text/plain": [
       "12"
      ]
     },
     "execution_count": 2,
     "metadata": {},
     "output_type": "execute_result"
    }
   ],
   "source": [
    "len_str(\"Tanuj Sharma\")"
   ]
  },
  {
   "cell_type": "markdown",
   "id": "86e4c68c",
   "metadata": {},
   "source": [
    "#### 2. write a function which will be able to print an index of all premitive element which you will pass "
   ]
  },
  {
   "cell_type": "code",
   "execution_count": 3,
   "id": "83a7895f",
   "metadata": {},
   "outputs": [],
   "source": [
    "def index(a):\n",
    "    for i in range(len(a)):\n",
    "        print(i)\n",
    "    "
   ]
  },
  {
   "cell_type": "code",
   "execution_count": null,
   "id": "b2d246d6",
   "metadata": {},
   "outputs": [],
   "source": []
  },
  {
   "cell_type": "markdown",
   "id": "fcebc925",
   "metadata": {},
   "source": [
    "#### 3. Write a fun which will take input as a dict and give me out as a list of all the values even in case of 2 level nesting it should work ."
   ]
  },
  {
   "cell_type": "code",
   "execution_count": 3,
   "id": "92d57403",
   "metadata": {},
   "outputs": [],
   "source": [
    "def dict_values(a):\n",
    "    '''Enter the dictionary or nested dictionary and get a list of all values present in the dictionary'''\n",
    "    l1 = []\n",
    "    for i in a.values():\n",
    "        for j in i.values():\n",
    "            l1.append(j)\n",
    "    return l1\n",
    "        "
   ]
  },
  {
   "cell_type": "code",
   "execution_count": 4,
   "id": "dc341092",
   "metadata": {},
   "outputs": [
    {
     "data": {
      "text/plain": [
       "[1, 2, 3, 4, 5, 6]"
      ]
     },
     "execution_count": 4,
     "metadata": {},
     "output_type": "execute_result"
    }
   ],
   "source": [
    "dict_values({\"id's\":{\"a\":1,\n",
    "                     \"b\":2,\n",
    "                     \"c\":3\n",
    "                    },\n",
    "             \n",
    "             \n",
    "             \"index\":{\"d\":4,\n",
    "                      \"e\":5,\n",
    "                      \"f\":6\n",
    "                     },\n",
    "             \n",
    "            \n",
    "            \n",
    "            \n",
    "            })"
   ]
  },
  {
   "cell_type": "markdown",
   "id": "f41506a1",
   "metadata": {},
   "source": [
    "#### 4 . write a fun which will take another function as an input and return me an output"
   ]
  },
  {
   "cell_type": "code",
   "execution_count": 6,
   "id": "360edeb8",
   "metadata": {},
   "outputs": [],
   "source": [
    "def string2(str2):\n",
    "    print(\"function \" + str2 + \".\")\n",
    "def string1(str1,str2):\n",
    "    print(\"This is \" + str1, end = ' ')\n",
    "    return string2(str2)"
   ]
  },
  {
   "cell_type": "code",
   "execution_count": 7,
   "id": "3f0c4567",
   "metadata": {},
   "outputs": [
    {
     "name": "stdout",
     "output_type": "stream",
     "text": [
      "This is Nested function example.\n"
     ]
    }
   ],
   "source": [
    "string1(\"Nested\",\"example\")"
   ]
  },
  {
   "cell_type": "markdown",
   "id": "70f598a6",
   "metadata": {},
   "source": [
    "#### 5. write a function which will take multiple list as a input and give me concatnation of all the element as and output "
   ]
  },
  {
   "cell_type": "code",
   "execution_count": 8,
   "id": "6093e847",
   "metadata": {},
   "outputs": [
    {
     "ename": "SyntaxError",
     "evalue": "invalid syntax (<ipython-input-8-25dbd7e4d091>, line 1)",
     "output_type": "error",
     "traceback": [
      "\u001b[1;36m  File \u001b[1;32m\"<ipython-input-8-25dbd7e4d091>\"\u001b[1;36m, line \u001b[1;32m1\u001b[0m\n\u001b[1;33m    def concat_list(a,b)\u001b[0m\n\u001b[1;37m                        ^\u001b[0m\n\u001b[1;31mSyntaxError\u001b[0m\u001b[1;31m:\u001b[0m invalid syntax\n"
     ]
    }
   ],
   "source": [
    "def concat_list(a,b)"
   ]
  },
  {
   "cell_type": "markdown",
   "id": "2e7dd70b",
   "metadata": {},
   "source": [
    "#### 6. write a function which will be able to take a list as an input return an index of each element like a inbuilt index function but even if we have repetative element it should return index "
   ]
  },
  {
   "cell_type": "code",
   "execution_count": 5,
   "id": "2db77b9a",
   "metadata": {},
   "outputs": [],
   "source": [
    "def index(a):\n",
    "    '''Return a index of each element whether it has repetative elements also'''\n",
    "    for i in range(len(a)):\n",
    "        print(\"index is\",i,\"of\",a[i])"
   ]
  },
  {
   "cell_type": "code",
   "execution_count": 7,
   "id": "e29f2b97",
   "metadata": {},
   "outputs": [
    {
     "name": "stdout",
     "output_type": "stream",
     "text": [
      "index is 0 of 1\n",
      "index is 1 of 2\n",
      "index is 2 of 3\n",
      "index is 3 of 4\n",
      "index is 4 of 5\n",
      "index is 5 of 5\n",
      "index is 6 of 4\n",
      "index is 7 of 3\n",
      "index is 8 of [1, 2, 3]\n"
     ]
    }
   ],
   "source": [
    "index([1,2,3,4,5,5,4,3,[1,2,3]])"
   ]
  },
  {
   "cell_type": "code",
   "execution_count": 6,
   "id": "81fc2555",
   "metadata": {},
   "outputs": [
    {
     "name": "stdout",
     "output_type": "stream",
     "text": [
      "index is 0 of 1\n",
      "index is 1 of 2\n",
      "index is 2 of 3\n",
      "index is 3 of 3\n"
     ]
    }
   ],
   "source": [
    "index((1,2,3,3))"
   ]
  },
  {
   "cell_type": "markdown",
   "id": "689e0bb4",
   "metadata": {},
   "source": [
    "#### 7 . Write a Python function which will return list of all the file name from a directory . "
   ]
  },
  {
   "cell_type": "code",
   "execution_count": 26,
   "id": "aaed57ea",
   "metadata": {},
   "outputs": [],
   "source": [
    "import os\n",
    "def file_names(path):\n",
    "    '''Return a list of all the file name present in the given directory\n",
    "       path = location of the file path present'''\n",
    "    l = []\n",
    "    files = os.listdir(path)\n",
    "    for f in files:\n",
    "        l.append(f)\n",
    "    return l"
   ]
  },
  {
   "cell_type": "code",
   "execution_count": 9,
   "id": "ba5a09a4",
   "metadata": {},
   "outputs": [
    {
     "data": {
      "text/plain": [
       "['.ipynb_checkpoints',\n",
       " '19.2.MySQL',\n",
       " '19.3 MongoDB',\n",
       " 'Cassandra.ipynb',\n",
       " 'Classes',\n",
       " 'Complete Python Module',\n",
       " 'Ineuron DA Assignments',\n",
       " 'Power BI',\n",
       " 'Power BI Project',\n",
       " 'Python Basic Assignment',\n",
       " 'SQL']"
      ]
     },
     "execution_count": 9,
     "metadata": {},
     "output_type": "execute_result"
    }
   ],
   "source": [
    "file_names('/Users/Tanuj/Desktop/INEURON')"
   ]
  },
  {
   "cell_type": "code",
   "execution_count": 10,
   "id": "62d96508",
   "metadata": {},
   "outputs": [
    {
     "data": {
      "text/plain": [
       "['.ipynb_checkpoints',\n",
       " '23rd_Dec_Tasks.ipynb',\n",
       " 'Dec18_Class3_tuple,set,dict.ipynb',\n",
       " 'Dec19_conditional statement.ipynb',\n",
       " 'Dec23rd_Function Class.ipynb',\n",
       " 'Dec4_class1 AND Dec5_class2.ipynb',\n",
       " 'Dec_20th_for loop,while loop.ipynb',\n",
       " 'Dec_21st _For loop, counter, reverse and problem practice.ipynb']"
      ]
     },
     "execution_count": 10,
     "metadata": {},
     "output_type": "execute_result"
    }
   ],
   "source": [
    "file_names('/Users/Tanuj/Desktop/INEURON/Classes')"
   ]
  },
  {
   "cell_type": "markdown",
   "id": "af64e25b",
   "metadata": {},
   "source": [
    "#### 8. write a function which will be able to show your system configuration."
   ]
  },
  {
   "cell_type": "code",
   "execution_count": 11,
   "id": "95914b16",
   "metadata": {},
   "outputs": [],
   "source": [
    "import platform\n",
    "def sys_info():\n",
    "    '''Return a system configuration'''\n",
    "    x = platform.uname()\n",
    "    print(f\"System: {x.system}\")\n",
    "    print(f\"Node Name: {x.node}\")\n",
    "    print(f\"Release: {x.release}\")\n",
    "    print(f\"Version: {x.version}\")\n",
    "    print(f\"Machine: {x.machine}\")\n",
    "    print(f\"Processor: {x.processor}\")\n"
   ]
  },
  {
   "cell_type": "code",
   "execution_count": 12,
   "id": "c7de5d7d",
   "metadata": {},
   "outputs": [
    {
     "name": "stdout",
     "output_type": "stream",
     "text": [
      "System: Windows\n",
      "Node Name: DESKTOP-AU4LF73\n",
      "Release: 10\n",
      "Version: 10.0.19041\n",
      "Machine: AMD64\n",
      "Processor: Intel64 Family 6 Model 140 Stepping 1, GenuineIntel\n"
     ]
    }
   ],
   "source": [
    "sys_info()"
   ]
  },
  {
   "cell_type": "markdown",
   "id": "182caa24",
   "metadata": {},
   "source": [
    "#### 9 . write a function which will be able to show date and time  . \n"
   ]
  },
  {
   "cell_type": "code",
   "execution_count": 15,
   "id": "0e730f42",
   "metadata": {},
   "outputs": [],
   "source": [
    "import datetime"
   ]
  },
  {
   "cell_type": "code",
   "execution_count": 16,
   "id": "949d7190",
   "metadata": {},
   "outputs": [],
   "source": [
    "def date_time():\n",
    "    '''Return a current date and time'''\n",
    "    x = datetime.datetime.now()\n",
    "    print(\"Today Date is: %s/%s/%s\" %(x.day, x.month, x.year))\n",
    "    print(\"Current Time is: %s:%s:%s\" %(x.hour, x.minute, x.second))"
   ]
  },
  {
   "cell_type": "code",
   "execution_count": 17,
   "id": "278fc736",
   "metadata": {},
   "outputs": [
    {
     "name": "stdout",
     "output_type": "stream",
     "text": [
      "Today Date is: 5/1/2022\n",
      "Current Time is: 12:44:30\n"
     ]
    }
   ],
   "source": [
    "date_time()"
   ]
  },
  {
   "cell_type": "markdown",
   "id": "82b1e12e",
   "metadata": {},
   "source": [
    "#### 10 . write a function which will be able to read a image file and show it to you ."
   ]
  },
  {
   "cell_type": "code",
   "execution_count": 25,
   "id": "2be83495",
   "metadata": {},
   "outputs": [],
   "source": [
    "from PIL import Image\n",
    "def image(x):\n",
    "    '''Read a image file and show it to you\n",
    "       x = Enter the location of image file present'''\n",
    "    img = Image.open(x)\n",
    "    return img\n",
    "    "
   ]
  },
  {
   "cell_type": "code",
   "execution_count": 19,
   "id": "979fe0d4",
   "metadata": {},
   "outputs": [
    {
     "data": {
      "image/png": "[encoded data removed]",
      "text/plain": [
       "<PIL.PngImagePlugin.PngImageFile image mode=P size=430x117 at 0x1E8F7C71E80>"
      ]
     },
     "execution_count": 19,
     "metadata": {},
     "output_type": "execute_result"
    }
   ],
   "source": [
    "image('C:/Users/Tanuj/Desktop/ineuron logo.png')"
   ]
  },
  {
   "cell_type": "markdown",
   "id": "c10c7b14",
   "metadata": {},
   "source": [
    "#### 11. write a function which can read video file and play for you . "
   ]
  },
  {
   "cell_type": "code",
   "execution_count": 24,
   "id": "b229c218",
   "metadata": {},
   "outputs": [],
   "source": [
    "from os import startfile\n",
    "def play_video(x):\n",
    "    '''Read a video file and return to you\n",
    "       x = Enter the location of video file present'''\n",
    "    video = startfile(x)\n",
    "    return video\n",
    "    "
   ]
  },
  {
   "cell_type": "code",
   "execution_count": 39,
   "id": "1930fc54",
   "metadata": {},
   "outputs": [],
   "source": [
    "play_video('C:/Users/Tanuj/Desktop/Acccenture_data/Data Analytics Task3.mp4')"
   ]
  },
  {
   "cell_type": "markdown",
   "id": "ca74e52d",
   "metadata": {},
   "source": [
    "#### 12. write a function which can move a file from one directory to another directory"
   ]
  },
  {
   "cell_type": "code",
   "execution_count": 21,
   "id": "29870a9b",
   "metadata": {},
   "outputs": [],
   "source": [
    "import shutil"
   ]
  },
  {
   "cell_type": "code",
   "execution_count": 23,
   "id": "6e496093",
   "metadata": {},
   "outputs": [],
   "source": [
    "def moved_file(source,destination):\n",
    "    '''Move a file from one directory to another.\n",
    "       source = Enter the current location of file\n",
    "       destination = Enter the location in which you have to move the file '''\n",
    "    move = shutil.move(source,destination)\n",
    "    return move"
   ]
  },
  {
   "cell_type": "code",
   "execution_count": 3,
   "id": "c4943f57",
   "metadata": {},
   "outputs": [
    {
     "data": {
      "text/plain": [
       "'C:/Users/Tanuj/Desktop/SpaceX.pbix'"
      ]
     },
     "execution_count": 3,
     "metadata": {},
     "output_type": "execute_result"
    }
   ],
   "source": [
    "moved_file(\"C:/Users/Tanuj/Desktop/INEURON/SpaceX.pbix\",\"C:/Users/Tanuj/Desktop/SpaceX.pbix\")"
   ]
  },
  {
   "cell_type": "markdown",
   "id": "82177ffb",
   "metadata": {},
   "source": [
    "#### 13.  write a function which will be able to shutdonw your system "
   ]
  },
  {
   "cell_type": "code",
   "execution_count": null,
   "id": "43dfe603",
   "metadata": {},
   "outputs": [],
   "source": []
  },
  {
   "cell_type": "code",
   "execution_count": null,
   "id": "db66bf3d",
   "metadata": {},
   "outputs": [],
   "source": []
  },
  {
   "cell_type": "markdown",
   "id": "d6c4e570",
   "metadata": {},
   "source": [
    "#### 14.  write a python function which will be able to access your mail"
   ]
  },
  {
   "cell_type": "code",
   "execution_count": null,
   "id": "8daab60a",
   "metadata": {},
   "outputs": [],
   "source": []
  }
 ],
 "metadata": {
  "kernelspec": {
   "display_name": "Python 3",
   "language": "python",
   "name": "python3"
  },
  "language_info": {
   "codemirror_mode": {
    "name": "ipython",
    "version": 3
   },
   "file_extension": ".py",
   "mimetype": "text/x-python",
   "name": "python",
   "nbconvert_exporter": "python",
   "pygments_lexer": "ipython3",
   "version": "3.8.8"
  }
 },
 "nbformat": 4,
 "nbformat_minor": 5
}
